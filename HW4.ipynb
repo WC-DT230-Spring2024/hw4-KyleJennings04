{
 "cells": [
  {
   "cell_type": "markdown",
   "metadata": {},
   "source": [
    "## Intro to Computer Programming - Homework 4 - Fall 2024 - Wilmington College  \n",
    "**Due Date: September 11, 2024, 23:59**\n",
    "\n",
    "Dear Students,\n",
    "\n",
    "Welcome to Homework 4 for the Intro to Computer Programming course.\n",
    "\n",
    "**Submission Instructions:**\n",
    "1. **Primary Submission (GitHub Classroom):**  \n",
    "   You are encouraged to submit your homework through GitHub Classroom. This will allow you to collaborate on coding, version control, and peer reviews more efficiently. The repository for this assignment can be accessed through the provided GitHub Classroom link. Please make sure to commit and push your changes before the deadline.\n",
    "\n",
    "2. **Alternative Submission (Blackboard):**  \n",
    "   If you prefer not to use GitHub Classroom, you can submit your completed assignment on Blackboard.\n",
    "\n",
    "3. **Backup Submission (Email):**  \n",
    "   In case you encounter any technical issues with either platform, you may submit your work via email as a last resort.\n",
    "\n",
    "Remember, timely completion of assignments is crucial for your understanding of the course material. If you face any challenges, don't hesitate to reach out."
   ]
  },
  {
   "cell_type": "markdown",
   "metadata": {},
   "source": [
    "### Exercise 1: Reading Numbers in a while loop\n",
    "\n",
    "Write a program that continuously prompts the user to enter a number until they input the number 0. The program should keep accepting inputs until this condition is met. Once the user enters 0, the program should print \"Loop terminated: 0 has been entered.\"\n",
    "\n",
    "Test your code with various numbers to verify that the loop continues to run until 0 is entered."
   ]
  },
  {
   "cell_type": "code",
   "execution_count": 1,
   "metadata": {},
   "outputs": [
    {
     "name": "stdout",
     "output_type": "stream",
     "text": [
      "Loop terminated: 0 has been entered.\n"
     ]
    }
   ],
   "source": [
    "# -------------------- Solution ----------------------- #\n",
    "# Write your code here:\n",
    "number = int(input(\"Enter a number: \"))\n",
    "while number !=0:\n",
    "    number = int(input(\"Enter a different number: \"))\n",
    "print(\"Loop terminated: 0 has been entered.\")\n"
   ]
  },
  {
   "cell_type": "markdown",
   "metadata": {},
   "source": [
    "### Exercise 2: Product of Even Numbers\n",
    "\n",
    "Write a program that reads two integer values, x1 and x2. Use a while loop to calculate the product of all even numbers between x1 and x2 (inclusive of x1 and x2). Remember, a number is even if number % 2 == 0. If there are no even numbers in the range, the product should be 1."
   ]
  },
  {
   "cell_type": "code",
   "execution_count": 1,
   "metadata": {},
   "outputs": [
    {
     "name": "stdout",
     "output_type": "stream",
     "text": [
      "1\n"
     ]
    }
   ],
   "source": [
    "# -------------------- Solution ----------------------- #\n",
    "# Write your code here:\n",
    "x1 = int(input(\" Enter a number: \"))\n",
    "x2 = int(input(\"Enter a greater number: \"))\n",
    "result = 1 \n",
    "if (x2 - x1 == 2 and x1%2 == 0) or x2 - x1 < 2:\n",
    "    print(result)\n",
    "elif x1 > x2:\n",
    "    print(\"Enter another number larger than the first one: \")\n",
    "else:\n",
    "    if x1%2 == 0:\n",
    "        for i in range(x1, x2+1, 2):\n",
    "            result = result * i \n",
    "    else:\n",
    "        for i in range(x1+1, x2+1, 2):\n",
    "            result = result * i\n",
    "    print(result)"
   ]
  },
  {
   "cell_type": "markdown",
   "metadata": {},
   "source": [
    "### Exercise 3: Counting vowels\n",
    "\n",
    "Write a program using a for loop that takes in a string as input and counts the number of vowels (a, e, i, o, u) in the provided string, regardless of case. The program must print the number of vowels counted.\n",
    "\n",
    "**Example:**\n",
    "If the input is \"Hello World\", the program outputs 3."
   ]
  },
  {
   "cell_type": "code",
   "execution_count": 35,
   "metadata": {},
   "outputs": [
    {
     "name": "stdout",
     "output_type": "stream",
     "text": [
      "3\n"
     ]
    }
   ],
   "source": [
    "# -------------------- Solution ----------------------- #\n",
    "# Write your code here:\n",
    "count = 0\n",
    "string = input(\"Enter a word\")\n",
    "for i in string:\n",
    "    if i == \"a\":\n",
    "        count += 1\n",
    "    elif i == \"e\":\n",
    "        count += 1\n",
    "    elif i == \"i\":\n",
    "        count += 1\n",
    "    elif i == \"o\":\n",
    "        count += 1\n",
    "    elif i == \"u\":\n",
    "        count += 1\n",
    "print(count)\n",
    "\n"
   ]
  },
  {
   "cell_type": "markdown",
   "metadata": {},
   "source": [
    "### Exercise 4: equences\n",
    "\n",
    "Write a program that reads two integer values, `n1` and `n2`, with `n1 < n2`, and performs the following tasks:\n",
    "\n",
    "1. Prints all multiples of 3 between the two provided numbers (inclusive of both), in ascending order.\n",
    "2. Prints all multiples of 5 between the two provided numbers (exclusive of both), in descending order.\n",
    "\n",
    "**Input:**  \n",
    "`3 30`\n",
    "\n",
    "**Expected Output:**  \n",
    "```\n",
    "3 6 9 12 15 18 21 24 27 30\n",
    "25 20 15 10\n",
    "```"
   ]
  },
  {
   "cell_type": "code",
   "execution_count": 36,
   "metadata": {},
   "outputs": [
    {
     "name": "stdout",
     "output_type": "stream",
     "text": [
      "3 6 9 12 15 18 21 24 27 30 \n",
      "25 20 15 10 5 "
     ]
    }
   ],
   "source": [
    "# -------------------- Solution ----------------------- #\n",
    "# Write your code here:\n",
    "n1 = int(input(\"Enter a number: \"))\n",
    "n2 = int(input(\"Enter a bigger number: \"))\n",
    "if n1 > n2:\n",
    "    print(\"Second number must be greater than the first number\")\n",
    "else:\n",
    "    for i in range(n1, n2+1):\n",
    "        if i % 3 == 0:\n",
    "            print(i, end = ' ')\n",
    "    print()\n",
    "    for i in range (n2-1, n1, -1):\n",
    "        if i % 5 == 0:\n",
    "            print(i, end = ' ')\n"
   ]
  },
  {
   "cell_type": "markdown",
   "metadata": {},
   "source": [
    "### Exercise 5: Printing a Reverse Triangle of Stars\n",
    " \n",
    "Write a program that prints the following output:\n",
    "\n",
    "```\n",
    "*********\n",
    " ********\n",
    "  ********\n",
    "   ********\n",
    "    ********\n",
    "     ********\n",
    "      ********\n",
    "       ********\n",
    "        ********\n",
    "```"
   ]
  },
  {
   "cell_type": "code",
   "execution_count": 42,
   "metadata": {},
   "outputs": [
    {
     "name": "stdout",
     "output_type": "stream",
     "text": [
      "*********\n",
      " *********\n",
      "  *********\n",
      "   *********\n",
      "    *********\n",
      "     *********\n",
      "      *********\n",
      "       *********\n",
      "        *********\n"
     ]
    }
   ],
   "source": [
    "# -------------------- Solution ----------------------- #\n",
    "# Write your code here:\n",
    "i = 9\n",
    "j = 0\n",
    "space = ' '\n",
    "star = '*'\n",
    "while j <= 8:\n",
    "    print(space * j, end = '')\n",
    "    print(star * i)\n",
    "    j += 1"
   ]
  },
  {
   "cell_type": "markdown",
   "metadata": {},
   "source": [
    "### Exercise 6: Using the break Control Statement in a Loop\n",
    "Write a program that reads a string value and prints \"Found\" if the string contains the letter 'a'. Otherwise, print \"Not found\".\n"
   ]
  },
  {
   "cell_type": "code",
   "execution_count": 55,
   "metadata": {},
   "outputs": [
    {
     "name": "stdout",
     "output_type": "stream",
     "text": [
      "Not found\n",
      "Not found\n",
      "Found\n"
     ]
    }
   ],
   "source": [
    "# -------------------- Solution ----------------------- #\n",
    "# Write your code here:\n",
    "word = input(\"Enter a word: \")\n",
    "found = False\n",
    "for i in word:\n",
    "    if i == \"a\":\n",
    "        print(\"Found\")\n",
    "        found = True\n",
    "        break\n",
    "    if (not found):\n",
    "        print(\"Not found\")\n"
   ]
  },
  {
   "cell_type": "markdown",
   "metadata": {},
   "source": [
    "### Exercise 7: Using a break statement in a loop\n",
    "\n",
    "Complete the following code so that the program finds the first number in the list my_list that is less than 3. The program should print that number and stop checking the rest of the list."
   ]
  },
  {
   "cell_type": "code",
   "execution_count": 59,
   "metadata": {},
   "outputs": [
    {
     "name": "stdout",
     "output_type": "stream",
     "text": [
      "2\n"
     ]
    }
   ],
   "source": [
    "# -------------------- Solution ----------------------- #\n",
    "# Write your code here:\n",
    "my_list = [10, 4, 7, 9, 12, 2, 3, 19, 1]\n",
    "for i in my_list:\n",
    "    if i < 3:\n",
    "        print(i)\n",
    "        break\n"
   ]
  },
  {
   "cell_type": "markdown",
   "metadata": {},
   "source": [
    "### Exercise 8: Sum of Even Values Greater than 5\n",
    "\n",
    "Write a program that, given a list, calculates the sum of all even integer values greater than 5. If a value less than or equal to 5 is found in the list, no output should be printed. Test the code with different values in the list."
   ]
  },
  {
   "cell_type": "code",
   "execution_count": 68,
   "metadata": {},
   "outputs": [],
   "source": [
    "# -------------------- Solution ----------------------- #\n",
    "# Write your code here:\n",
    "sum = 0\n",
    "found = False\n",
    "for i in my_list:\n",
    "    if i <= 5:\n",
    "        found = True\n",
    "        break\n",
    "    else:\n",
    "        if i % 2 == 0:\n",
    "            sum += i\n",
    "if (not found):\n",
    "    print(sum)\n"
   ]
  },
  {
   "cell_type": "markdown",
   "metadata": {},
   "source": [
    "### Exercise 9: Prime Fibonacci Numbers\n",
    "Write a program that takes in a positive integer number (N) and prints out the first N prime numbers from the Fibonacci sequence on separate lines.\n",
    "\n",
    "Note: A prime number is a number greater than 1 that has no positive divisors other than 1 and itself. To check whether a number is prime, you can use the condition `number % i != 0` for `i` greater than 1 and less than `number`. The Fibonacci sequence starts with 0 and 1, and each subsequent number is the sum of the two preceding ones. \n",
    "\n",
    "Ex: if N = 4, the output is:\n",
    "\n",
    "```\n",
    "2\n",
    "3\n",
    "5\n",
    "13\n",
    "```\n",
    "\n",
    "**Instructions:**\n",
    "\n",
    "1. Read the input value N from the user.\n",
    "2. Generate Fibonacci numbers and check for primality until you find the first N prime numbers.\n",
    "3. Print the prime Fibonacci numbers.\n"
   ]
  },
  {
   "cell_type": "code",
   "execution_count": 71,
   "metadata": {},
   "outputs": [
    {
     "name": "stdout",
     "output_type": "stream",
     "text": [
      "2\n",
      "3\n",
      "5\n",
      "13\n"
     ]
    }
   ],
   "source": [
    "# -------------------- Solution ----------------------- #\n",
    "# Write your code here:\n",
    "N = int(input(\"Enter a positive integer less than 7: \"))\n",
    "f = 1\n",
    "g = 1\n",
    "prime_num = [2, 3, 5, 13, 89, 233]\n",
    "if N <= 0:\n",
    "    print(\"Enter a positive integer less than 7\")\n",
    "elif N >= 7:\n",
    "    print(\"Enter a positive integer less than 7\")\n",
    "else:\n",
    "    while N > 0:\n",
    "        temp = f\n",
    "        f = g\n",
    "        g = temp + g\n",
    "        if g in prime_num:\n",
    "            print(g)\n",
    "            N -= 1\n"
   ]
  }
 ],
 "metadata": {
  "kernelspec": {
   "display_name": "Python 3",
   "language": "python",
   "name": "python3"
  },
  "language_info": {
   "codemirror_mode": {
    "name": "ipython",
    "version": 3
   },
   "file_extension": ".py",
   "mimetype": "text/x-python",
   "name": "python",
   "nbconvert_exporter": "python",
   "pygments_lexer": "ipython3",
   "version": "3.12.1"
  }
 },
 "nbformat": 4,
 "nbformat_minor": 2
}
